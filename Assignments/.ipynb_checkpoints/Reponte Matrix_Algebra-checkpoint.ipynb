{
 "cells": [
  {
   "cell_type": "markdown",
   "id": "4bd519f2-e36d-4048-8209-cfa56fcfe9c8",
   "metadata": {},
   "source": [
    "1. Without the use of any python libraries or modules, develop a function that can perform matrix addition, given two numpy matrices."
   ]
  },
  {
   "cell_type": "code",
   "execution_count": null,
   "id": "1555f8cf-4ced-4338-89d7-cdf0462ea941",
   "metadata": {},
   "outputs": [],
   "source": [
    "def matrix_addition(A, B):\n",
    "    # Check if the matrices have the same dimensions\n",
    "    if len(A) != len(B) or len(A[0]) != len(B[0]):\n",
    "        raise ValueError(\"Matrices must have the same dimensions for addition\")\n",
    "\n",
    "    # Initialize an empty matrix to store the result\n",
    "    result = [[0] * len(A[0]) for _ in range(len(A))]\n",
    "\n",
    "    # Perform element-wise addition\n",
    "    for i in range(len(result)):\n",
    "        for j in range(len(result[0])):\n",
    "            result[i][j] = A[i][j] + B[i][j]\n",
    "\n",
    "    return result\n",
    "\n",
    "# Example usage:\n",
    "matrix1 = [[1, 3], [2, -1]]\n",
    "matrix2 = [[2, 0], [5, -2]]\n",
    "# result = matrix1\n",
    "# print(\"res= \", result)\n",
    "result_matrix = matrix_addition(matrix1, matrix2)\n",
    "print(result_matrix)"
   ]
  },
  {
   "cell_type": "markdown",
   "id": "ef23f5c2-6357-425f-a383-1ee1860bab36",
   "metadata": {},
   "source": [
    "2. Without the use of any python libraries or modules, develop a function that can multiply two numpy matrices."
   ]
  },
  {
   "cell_type": "code",
   "execution_count": 5,
   "id": "0edd2702-485a-4d79-b889-e9a1b6e98370",
   "metadata": {},
   "outputs": [
    {
     "name": "stdout",
     "output_type": "stream",
     "text": [
      "[[17, -6, 14], [-1, 2, -14]]\n"
     ]
    }
   ],
   "source": [
    "def matrix_multiplication(A, B):\n",
    "    # Check if the matrices have compatible dimensions\n",
    "    if len(A[0]) != len(B):\n",
    "        raise ValueError(\"Number of columns in the first matrix must be equal to the number of rows in the second matrix\")\n",
    "\n",
    "    # Initialize an empty matrix to store the result\n",
    "    result = [[0] * len(B[0]) for _ in range(len(A))]\n",
    "\n",
    "    # Perform matrix multiplication\n",
    "    for i in range(len(A)):\n",
    "        for j in range(len(B[0])):\n",
    "            # Calculate the dot product of the corresponding row from mat1 and column from mat2\n",
    "            dot_product = sum(A[i][k] * B[k][j] for k in range(len(B)))\n",
    "            result[i][j] = dot_product\n",
    "\n",
    "    return result\n",
    "\n",
    "matrix1 = [[1, 3], [2, -1]]\n",
    "matrix2 = [[2, 0, -4], [5, -2, 6]]\n",
    "result_matrix = matrix_multiplication(matrix1, matrix2)\n",
    "print (result_matrix)"
   ]
  },
  {
   "cell_type": "markdown",
   "id": "55f801cb-304f-47ac-ad70-f90f3dc4da63",
   "metadata": {},
   "source": [
    "3. The rule of distributivity states that given two matrices 𝐴 and 𝐵 and a scalar, 𝑘, then 𝑘(𝐴+𝐵)=𝑘𝐴+𝑘𝐵. Instead of writing a proof mathematically, develop two codes for 𝑘(𝐴+𝐵) and 𝑘𝐴+𝑘𝐵."
   ]
  },
  {
   "cell_type": "code",
   "execution_count": 13,
   "id": "11af3684-b265-48cc-9268-4576184a5ddf",
   "metadata": {},
   "outputs": [
    {
     "name": "stdout",
     "output_type": "stream",
     "text": [
      "[[9, 9], [21, -9]]\n",
      "[[9, 9], [21, -9]]\n"
     ]
    }
   ],
   "source": [
    "# function for k(A + B)\n",
    "def addThenScalar(k, A, B):\n",
    "    # Check if the matrices have the same dimensions\n",
    "    if len(A) != len(B) or len(A[0]) != len(B[0]):\n",
    "        raise ValueError(\"Matrices must have the same dimensions for addition\")\n",
    "\n",
    "    # Initialize an empty matrix to store the result\n",
    "    result = [[0] * len(A[0]) for _ in range(len(A))]\n",
    "\n",
    "    # Perform element-wise addition, then scalar multiplication\n",
    "    for i in range(len(result)):\n",
    "        for j in range(len(result[0])):\n",
    "            result[i][j] = k * (A[i][j] + B[i][j])\n",
    "\n",
    "    return result\n",
    "\n",
    "# function for kA + kB\n",
    "def scalarThenAdd (k, A, B): \n",
    "    # Check if the matrices have the same dimensions\n",
    "    if len(A) != len(B) or len(A[0]) != len(B[0]):\n",
    "        raise ValueError(\"Matrices must have the same dimensions for addition\")\n",
    "\n",
    "    # Initialize an empty matrix to store the result\n",
    "    result = A\n",
    "\n",
    "    for i in range(len(A)):\n",
    "        for j in range(len(A[0])):\n",
    "            A[i][j] *= k \n",
    "    for i in range(len(B)):\n",
    "        for j in range(len(B[0])):\n",
    "            B[i][j] *= k \n",
    " \n",
    "    for i in range(len(result)):\n",
    "        for j in range(len(result[0])):\n",
    "            result[i][j] = A[i][j] + B[i][j]\n",
    "        \n",
    "    return result\n",
    "\n",
    "matrix1 = [[1, 3], [2, -1]]\n",
    "matrix2 = [[2, 0], [5, -2]]\n",
    "\n",
    "result_a = addThenScalar(3, matrix1, matrix2)\n",
    "print (result_a)\n",
    "result_b = scalarThenAdd(3, matrix1, matrix2)\n",
    "print (result_b)"
   ]
  },
  {
   "cell_type": "markdown",
   "id": "70970a28-d8f8-4f4c-827b-66824c71babb",
   "metadata": {},
   "source": [
    "4. Without using a python library or modules develop a function that can extract the diagonal of a numpy matrix."
   ]
  },
  {
   "cell_type": "code",
   "execution_count": 20,
   "id": "31d2a19a-e5d6-4ce3-8e7e-c31fe2f65996",
   "metadata": {},
   "outputs": [
    {
     "name": "stdout",
     "output_type": "stream",
     "text": [
      "The Diagonal : [1, 2, 3, 4]\n"
     ]
    }
   ],
   "source": [
    "def extractDia(A):\n",
    "    if len(A) != len(A[0]):\n",
    "        raise ValueError(\"Matrices must have the same dimensions\")\n",
    "\n",
    "    diagonal = [A[i][i] for i in range(len(A))]\n",
    "    return diagonal\n",
    "\n",
    "matrix = [[1, 5, 8, 10], \n",
    "          [11, 2, 6, 9], \n",
    "          [14, 2, 3, 7],\n",
    "          [16, 15, 13, 4]]\n",
    "\n",
    "diagonal = extractDia(matrix)\n",
    "print(\"The Diagonal :\", diagonal)"
   ]
  },
  {
   "cell_type": "markdown",
   "id": "a960df2b-6def-4afe-af1a-62402ade8746",
   "metadata": {},
   "source": [
    "5. Without using a python library or modules develop a function that can find a trace of a numpy matrix."
   ]
  },
  {
   "cell_type": "code",
   "execution_count": 22,
   "id": "af1b47bb-770b-4599-b0ca-2e98abfe7049",
   "metadata": {},
   "outputs": [
    {
     "name": "stdout",
     "output_type": "stream",
     "text": [
      "Trace : 10\n"
     ]
    }
   ],
   "source": [
    "def computeTrace(A):\n",
    "    if len(A) != len(A[0]):\n",
    "        raise ValueError(\"Matrices must have the same dimensions\")\n",
    "\n",
    "    trace = 0\n",
    "    for i in range ( len ( A ) ) :\n",
    "        trace += A[i][i]\n",
    "    return trace\n",
    "\n",
    "matrix = [[1, 5, 8, 10], \n",
    "          [11, 2, 6, 9], \n",
    "          [14, 2, 3, 7],\n",
    "          [16, 15, 13, 4]]\n",
    "\n",
    "trace = computeTrace(matrix)\n",
    "print(\"Trace :\", trace)"
   ]
  },
  {
   "cell_type": "markdown",
   "id": "ad97919b-350f-48d0-91e1-1eb6c1b74521",
   "metadata": {},
   "source": [
    "1. Solve $X$ given that:\n",
    "\\begin{equation}\n",
    "A =\n",
    "\\begin{bmatrix}\n",
    "1 & 2 \\\\\n",
    "3 & 4 \\\\\n",
    "\\end{bmatrix},\n",
    "B =\n",
    "\\begin{bmatrix}\n",
    "-1 & 0 \\\\\n",
    "1 & 1 \\\\\n",
    "\\end{bmatrix}\n",
    "\\end{equation}\n",
    "- $3X = A-2B$\n",
    "- $2(A-B+2X) = 3(X-B)$\n",
    "<br>\n",
    "<br>\n",
    "a. \n",
    "<br><br>\n",
    "\\begin{equation}\n",
    "\\begin{bmatrix}\n",
    "1 & 2 \\\\\n",
    "3 & 4 \\\\\n",
    "\\end{bmatrix}\n",
    "- 2\n",
    "\\begin{bmatrix}\n",
    "-1 & 0 \\\\\n",
    "1 & 1 \\\\\n",
    "\\end{bmatrix}\n",
    "\\end{equation}\n",
    "<br> $3X$ =\n",
    "\\begin{equation}\n",
    "\\begin{bmatrix}\n",
    "3 & 2 \\\\\n",
    "1 & 2 \\\\\n",
    "\\end{bmatrix}\n",
    "\\end{equation}\n",
    "<br><br>\n",
    "b. \n",
    "<br>\n",
    "\\begin{equation}\n",
    "2A - 2B + 4X = 3X - 3B \\newline\n",
    "4X - 3X = 2B - 2A - 3B \\newline\n",
    "X = (2B - 2A - 3B) \\newline\n",
    "X = 2\n",
    "\\begin{bmatrix}\n",
    "-1 & 0 \\\\\n",
    "1 & 1 \\\\\n",
    "\\end{bmatrix}\n",
    "-\n",
    "2\n",
    "\\begin{bmatrix}\n",
    "1 & 2 \\\\\n",
    "3 & 4 \\\\\n",
    "\\end{bmatrix}\n",
    "-\n",
    "3\n",
    "\\begin{bmatrix}\n",
    "-1 & 0 \\\\\n",
    "1 & 1 \\\\\n",
    "\\end{bmatrix}\n",
    "= \n",
    "\\begin{bmatrix}\n",
    "-2 & 0 \\\\\n",
    "2 & 2 \\\\\n",
    "\\end{bmatrix}\n",
    "-\n",
    "\\begin{bmatrix}\n",
    "2 & 4 \\\\\n",
    "6 & 8 \\\\\n",
    "\\end{bmatrix}\n",
    "-\n",
    "\\begin{bmatrix}\n",
    "-3 & 0 \\\\\n",
    "3 & 3 \\\\\n",
    "\\end{bmatrix}\n",
    "= \n",
    "\\begin{bmatrix}\n",
    "-2 - 2 + 3 & 0 - 4 - 0 \\\\\n",
    "2 - 6 - 3 & 2 - 8 - 3 \\\\\n",
    "\\end{bmatrix} \\\\\n",
    "\\boxed{X =\n",
    "\\begin{bmatrix}\n",
    "-1 & -4 \\\\\n",
    "-7 & -9 \\\\\n",
    "\\end{bmatrix}}\n",
    "\\end{equation}"
   ]
  },
  {
   "cell_type": "code",
   "execution_count": null,
   "id": "7fed9eb7-dc56-42b4-b563-5440f93e7aa7",
   "metadata": {},
   "outputs": [],
   "source": []
  }
 ],
 "metadata": {
  "kernelspec": {
   "display_name": "Python 3 (ipykernel)",
   "language": "python",
   "name": "python3"
  },
  "language_info": {
   "codemirror_mode": {
    "name": "ipython",
    "version": 3
   },
   "file_extension": ".py",
   "mimetype": "text/x-python",
   "name": "python",
   "nbconvert_exporter": "python",
   "pygments_lexer": "ipython3",
   "version": "3.11.5"
  }
 },
 "nbformat": 4,
 "nbformat_minor": 5
}
