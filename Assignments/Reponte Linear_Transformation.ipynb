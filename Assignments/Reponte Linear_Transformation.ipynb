{
 "cells": [
  {
   "cell_type": "markdown",
   "id": "0d2c19a5-7136-4cae-949e-570cd1b115d0",
   "metadata": {},
   "source": [
    "1. Develop a python function from scratch that will find the determinants of any n x n\r\n",
    " matrix\n",
    "2. Develop a python function from scratch that will find both the eigenvectors and eigenvalues of any  n x n matrix.\n",
    "3. Test your functions from a randomly generated n x n matrix.\r\n"
   ]
  },
  {
   "cell_type": "code",
   "execution_count": 33,
   "id": "5388e4e0-544c-4883-991b-ac3689983f86",
   "metadata": {},
   "outputs": [
    {
     "name": "stdout",
     "output_type": "stream",
     "text": [
      "Random Matrix:\n",
      "[[0.47171644 0.96436177 0.40040877]\n",
      " [0.50423786 0.36923106 0.46926252]\n",
      " [0.5250474  0.48153559 0.01099146]]\n",
      "\n",
      "Determinant: 0.1471796687498049\n",
      "\n",
      "Eigenvalues [1.4373539564590396, 0.27177006537484755, 0.48194657950006814]\n",
      "\n",
      "Eigenvectors [[0.7184461854775802, 0.5346477342765263, 0.444957165135804], [0.22475149125752172, 0.43177144443457843, -0.8735331630501487], [0.6201271297138936, -0.30752566449328966, 0.7217134532976147]]\n"
     ]
    }
   ],
   "source": [
    "import numpy as np\n",
    "\n",
    "def determinant(matrix):\n",
    "    n = len(matrix)\n",
    "    \n",
    "    # Base case for 2x2 matrix\n",
    "    if n == 2:\n",
    "        return matrix[0, 0] * matrix[1, 1] - matrix[0, 1] * matrix[1, 0]\n",
    "    \n",
    "    det = 0\n",
    "    for i in range(n):\n",
    "        cofactor = (-1) ** i * matrix[0, i] * determinant(submatrix(matrix, 0, i))\n",
    "        det += cofactor\n",
    "\n",
    "    return det\n",
    "\n",
    "def submatrix(matrix, row, col):\n",
    "    return np.delete(np.delete(matrix, row, axis=0), col, axis=1)\n",
    "\n",
    "def dot_product(v1, v2):\n",
    "    return sum(x * y for x, y in zip(v1, v2))\n",
    "\n",
    "def normalize_vector(v):\n",
    "    length = (sum(x ** 2 for x in v)) ** 0.5\n",
    "    return [x / length for x in v]\n",
    "\n",
    "def matrix_vector_multiply(matrix, vector):\n",
    "    return [dot_product(row, vector) for row in matrix]\n",
    "\n",
    "def power_iteration(matrix, num_iterations=100):\n",
    "    # Initialize a random vector as the initial guess\n",
    "    eigenvector_guess = [1] * len(matrix)\n",
    "\n",
    "    for _ in range(num_iterations):\n",
    "        # Calculate the matrix times the current eigenvector guess\n",
    "        matrix_times_guess = matrix_vector_multiply(matrix, eigenvector_guess)\n",
    "\n",
    "        # Normalize the resulting vector\n",
    "        eigenvector_guess = normalize_vector(matrix_times_guess)\n",
    "\n",
    "        # Calculate the dominant eigenvalue\n",
    "        eigenvalue_guess = dot_product(eigenvector_guess, matrix_times_guess)\n",
    "\n",
    "    return eigenvalue_guess, eigenvector_guess\n",
    "\n",
    "def matrix_subtract(matrix1, matrix2):\n",
    "    # Subtract corresponding elements of two matrices\n",
    "    return [[x - y for x, y in zip(row1, row2)] for row1, row2 in zip(matrix1, matrix2)]\n",
    "\n",
    "def top_k_eigenpairs(matrix, k):\n",
    "    eigenpairs = []\n",
    "\n",
    "    for _ in range(k):\n",
    "        eigenvalue, eigenvector = power_iteration(matrix)\n",
    "        eigenpairs.append((eigenvalue, eigenvector))\n",
    "\n",
    "        # Deflate the matrix to find the next eigenpair\n",
    "        outer_product = [[v_i * v_j for v_j in eigenvector] for v_i in eigenvector]\n",
    "        deflate_matrix = matrix_subtract(matrix, [[eigenvalue * y for y in row] for row in outer_product])\n",
    "        matrix = deflate_matrix\n",
    "    \n",
    "    return eigenpairs\n",
    "\n",
    "# Test the functions with a randomly generated 3x3 matrix\n",
    "random_matrix = np.random.rand(3, 3)\n",
    "print(\"Random Matrix:\")\n",
    "print(random_matrix)\n",
    "\n",
    "det = determinant(random_matrix)\n",
    "print(\"\\nDeterminant:\", det)\n",
    "\n",
    "top_eigenpairs = top_k_eigenpairs(random_matrix, 3)\n",
    "eigenvalues = [eigenvalue for eigenvalue, _ in top_eigenpairs]\n",
    "eigenvectors = [eigenvector for _, eigenvector in top_eigenpairs]\n",
    "print(\"\\nEigenvalues\", eigenvalues)\n",
    "print(\"\\nEigenvectors\", eigenvectors)"
   ]
  },
  {
   "cell_type": "code",
   "execution_count": null,
   "id": "d4775672-fec8-4a87-9b24-79a9edc4f87e",
   "metadata": {},
   "outputs": [],
   "source": []
  }
 ],
 "metadata": {
  "kernelspec": {
   "display_name": "Python 3 (ipykernel)",
   "language": "python",
   "name": "python3"
  },
  "language_info": {
   "codemirror_mode": {
    "name": "ipython",
    "version": 3
   },
   "file_extension": ".py",
   "mimetype": "text/x-python",
   "name": "python",
   "nbconvert_exporter": "python",
   "pygments_lexer": "ipython3",
   "version": "3.11.5"
  }
 },
 "nbformat": 4,
 "nbformat_minor": 5
}
